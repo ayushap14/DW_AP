import numpy as np
vector = np.random.random(30)
mean_value = np.mean(vector)
print("mean value:",mean_value)